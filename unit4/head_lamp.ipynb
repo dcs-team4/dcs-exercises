{
 "cells": [
  {
   "cell_type": "code",
   "execution_count": 3,
   "metadata": {},
   "outputs": [
    {
     "data": {
      "application/vnd.jupyter.widget-view+json": {
       "model_id": "ef1a852894e0415eab24c77c01b05635",
       "version_major": 2,
       "version_minor": 0
      },
      "text/plain": [
       "Image(value=b'\\x89PNG\\r\\n\\x1a\\n\\x00\\x00\\x00\\rIHDR\\x00\\x00\\x00P\\x00\\x00\\x00P\\x08\\x02\\x00\\x00\\x00\\x01se\\xfa\\x00\\…"
      ]
     },
     "metadata": {},
     "output_type": "display_data"
    },
    {
     "data": {
      "application/vnd.jupyter.widget-view+json": {
       "model_id": "62bc80c0ba6343ee9c1d6ba5dfdd9bdf",
       "version_major": 2,
       "version_minor": 0
      },
      "text/plain": [
       "Checkbox(value=False, description='Hand in front of sensor')"
      ]
     },
     "metadata": {},
     "output_type": "display_data"
    }
   ],
   "source": [
    "from stmpy import Machine, Driver\n",
    "from IPython.display import display\n",
    "import ipywidgets as widgets\n",
    "\n",
    "class HeadLight:\n",
    "    \n",
    "    # callback method, called by the button 'switch' when it is pressed\n",
    "    def on_value_change(self, change):\n",
    "        if change['new']:\n",
    "            self.stm.send('hand')\n",
    "        else:\n",
    "            self.stm.send('no_hand')\n",
    "    \n",
    "    # called by the initial transition\n",
    "    def __init__(self):\n",
    "        # load images and store them\n",
    "        self.yellow_on = open(\"images/yellow_on.png\", \"rb\").read()\n",
    "        self.yellow_off = open(\"images/yellow_off.png\", \"rb\").read()\n",
    "        # a checkbox to symbolize the IR sensor\n",
    "        self.checkbox = widgets.Checkbox(value=False, description='Hand in front of sensor')\n",
    "        self.checkbox.observe(self.on_value_change, names='value')\n",
    "        # an image of a yellow light\n",
    "        self.yellow = widgets.Image(value=self.yellow_off, format='png', width=50, height=50)\n",
    "        # display everything\n",
    "        display(self.yellow, self.checkbox)\n",
    "    \n",
    "    # called by our transition to turn the light on\n",
    "    def on(self):\n",
    "        # switch on the yellow light\n",
    "        self.yellow.set_trait(name='value', value=self.yellow_on)\n",
    "    \n",
    "    # called by our transition to turn the light on\n",
    "    def off(self):\n",
    "        # switch off the yellow light\n",
    "        self.yellow.set_trait(name='value', value=self.yellow_off)\n",
    "        \n",
    "head_light = HeadLight()\n",
    "\n",
    "transitions = [\n",
    "    {\n",
    "        \"source\": \"initial\",\n",
    "        \"target\": \"state_off\",\n",
    "    },\n",
    "    {\n",
    "        \"trigger\": \"hand\",\n",
    "        \"source\": \"state_off\",\n",
    "        \"target\": \"shift_on\",\n",
    "    },\n",
    "    {\n",
    "        \"trigger\": \"t\",\n",
    "        \"source\": \"shift_on\",\n",
    "        \"target\": \"off\",\n",
    "    },\n",
    "    {\n",
    "        \"trigger\": \"no_hand\",\n",
    "        \"source\": \"shift_on\",\n",
    "        \"target\": \"state_on\",\n",
    "    },\n",
    "    {\n",
    "        \"trigger\": \"hand\",\n",
    "        \"source\": \"state_on\",\n",
    "        \"target\": \"shift_off\",\n",
    "    },\n",
    "    {\n",
    "        \"trigger\": \"t\",\n",
    "        \"source\": \"shift_off\",\n",
    "        \"target\": \"state_on\",\n",
    "    },\n",
    "    {\n",
    "        \"trigger\": \"no_hand\",\n",
    "        \"source\": \"shift_off\",\n",
    "        \"target\": \"state_off\",\n",
    "    },\n",
    "]\n",
    "\n",
    "states = [\n",
    "    {\n",
    "        \"name\": \"state_off\",\n",
    "        \"entry\": \"off\",\n",
    "    },\n",
    "    {\n",
    "        \"name\": \"shift_on\",\n",
    "        \"entry\": \"start_timer('t', 1000)\",\n",
    "    },\n",
    "    {\n",
    "        \"name\": \"state_on\",\n",
    "        \"entry\": \"on\",\n",
    "    },\n",
    "    {\n",
    "        \"name\": \"shift_off\",\n",
    "        \"entry\": \"start_timer('t', 1000)\",\n",
    "    }\n",
    "]\n",
    "\n",
    "machine = Machine(\n",
    "    name=\"Head Light\",\n",
    "    transitions=transitions,\n",
    "    obj=head_light,\n",
    "    states=states,\n",
    ")\n",
    "\n",
    "driver = Driver()\n",
    "driver.add_machine(machine)\n",
    "driver.start()\n"
   ]
  }
 ],
 "metadata": {
  "kernelspec": {
   "display_name": "Python 3",
   "language": "python",
   "name": "python3"
  },
  "language_info": {
   "codemirror_mode": {
    "name": "ipython",
    "version": 3
   },
   "file_extension": ".py",
   "mimetype": "text/x-python",
   "name": "python",
   "nbconvert_exporter": "python",
   "pygments_lexer": "ipython3",
   "version": "3.10.1"
  }
 },
 "nbformat": 4,
 "nbformat_minor": 2
}
