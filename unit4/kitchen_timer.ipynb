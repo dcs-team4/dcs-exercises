{
 "cells": [
  {
   "cell_type": "markdown",
   "metadata": {},
   "source": [
    "# State Machine for the Kitchen Timer\n",
    "\n",
    "This is material for the lecture, not part of the mandatory preparation."
   ]
  },
  {
   "cell_type": "code",
   "execution_count": 5,
   "metadata": {},
   "outputs": [],
   "source": [
    "from stmpy import Machine, Driver\n",
    "\n",
    "import ipywidgets as widgets\n",
    "from IPython.display import display\n",
    "\n",
    "class KitchenTimer:\n",
    "    \n",
    "    def on_button_press(self, b):\n",
    "        self.stm.send('switch') # <---- here we send a signal\n",
    "            \n",
    "    def __init__(self):\n",
    "        # load images and store them\n",
    "        self.on_60 = open(\"images/timer/on_60.jpg\", \"rb\").read()\n",
    "        self.off_60 = open(\"images/timer/off_60.jpg\", \"rb\").read()\n",
    "        self.on_45 = open(\"images/timer/on_45.jpg\", \"rb\").read()\n",
    "        self.off_45 = open(\"images/timer/off_45.jpg\", \"rb\").read()\n",
    "        self.on_30 = open(\"images/timer/on_30.jpg\", \"rb\").read()\n",
    "        self.off_30 = open(\"images/timer/off_30.jpg\", \"rb\").read()\n",
    "        self.on_15 = open(\"images/timer/on_15.jpg\", \"rb\").read()\n",
    "        self.off_15 = open(\"images/timer/off_15.jpg\", \"rb\").read()\n",
    "        self.plug_on = open(\"images/timer/plug_on.jpg\", \"rb\").read()\n",
    "        self.plug_off = open(\"images/timer/plug_off.jpg\", \"rb\").read()\n",
    "        \n",
    "        self.led_15 = widgets.Image(value=self.off_15, format='jpg', width=50, height=50)\n",
    "        self.led_30 = widgets.Image(value=self.off_30, format='jpg', width=50, height=50)\n",
    "        self.led_45 = widgets.Image(value=self.off_45, format='jpg', width=50, height=50)\n",
    "        self.led_60 = widgets.Image(value=self.off_60, format='jpg', width=50, height=50)\n",
    "        \n",
    "        left_box = widgets.VBox([self.led_60, self.led_45])\n",
    "        right_box = widgets.VBox([self.led_15, self.led_30])\n",
    "        box = widgets.HBox([left_box, right_box])\n",
    "        self.plug = widgets.Image(value=self.plug_off, format='jpg', width=100, height=100)\n",
    "        \n",
    "        # display the user interface\n",
    "        # a button\n",
    "        self.button = widgets.Button(description=\"Button\")\n",
    "        self.button.on_click(self.on_button_press)\n",
    "        \n",
    "        display(box, self.button, self.plug)\n",
    "\n",
    "    def set_led(self, led15: bool, led30: bool, led45: bool, led60: bool):\n",
    "        self.switch_led('15', led15)\n",
    "        self.switch_led('30', led30)\n",
    "        self.switch_led('45', led45)\n",
    "        self.switch_led('60', led60)\n",
    "        \n",
    "    \n",
    "    def switch_led(self, led, on):\n",
    "        if led == '15' and on: self.led_15.set_trait(name='value', value=self.on_15)\n",
    "        if led == '15' and not on: self.led_15.set_trait(name='value', value=self.off_15) \n",
    "        if led == '30' and on: self.led_30.set_trait(name='value', value=self.on_30)\n",
    "        if led == '30' and not on: self.led_30.set_trait(name='value', value=self.off_30) \n",
    "        if led == '45' and on: self.led_45.set_trait(name='value', value=self.on_45)\n",
    "        if led == '45' and not on: self.led_45.set_trait(name='value', value=self.off_45) \n",
    "        if led == '60' and on: self.led_60.set_trait(name='value', value=self.on_60)\n",
    "        if led == '60' and not on: self.led_60.set_trait(name='value', value=self.off_60) \n",
    "            \n",
    "    def switch_plug(self, on):\n",
    "        if on: self.plug.set_trait(name='value', value=self.plug_on)\n",
    "        else: self.plug.set_trait(name='value', value=self.plug_off) "
   ]
  },
  {
   "cell_type": "code",
   "execution_count": 6,
   "metadata": {},
   "outputs": [
    {
     "data": {
      "application/vnd.jupyter.widget-view+json": {
       "model_id": "be109b36b26d4730be0448fce23c55c9",
       "version_major": 2,
       "version_minor": 0
      },
      "text/plain": [
       "HBox(children=(VBox(children=(Image(value=b'\\xff\\xd8\\xff\\xe0\\x00\\x10JFIF\\x00\\x01\\x01\\x00\\x00\\xc8\\x00\\xc8\\x00\\x…"
      ]
     },
     "metadata": {},
     "output_type": "display_data"
    },
    {
     "data": {
      "application/vnd.jupyter.widget-view+json": {
       "model_id": "fc4a5a0f9c5049588e28598cffe377c6",
       "version_major": 2,
       "version_minor": 0
      },
      "text/plain": [
       "Button(description='Button', style=ButtonStyle())"
      ]
     },
     "metadata": {},
     "output_type": "display_data"
    },
    {
     "data": {
      "application/vnd.jupyter.widget-view+json": {
       "model_id": "629cb895c1964523bd6f0048942c1720",
       "version_major": 2,
       "version_minor": 0
      },
      "text/plain": [
       "Image(value=b'\\xff\\xd8\\xff\\xe0\\x00\\x10JFIF\\x00\\x01\\x01\\x00\\x00\\xc8\\x00\\xc8\\x00\\x00\\xff\\xe1\\x00\\x98Exif\\x00\\x00…"
      ]
     },
     "metadata": {},
     "output_type": "display_data"
    }
   ],
   "source": [
    "timer = KitchenTimer()\n",
    "\n",
    "transitions = [\n",
    "\t{\n",
    "\t\t\"source\": \"initial\",\n",
    "\t\t\"target\": \"off\",\n",
    "\t},\n",
    "\t{\n",
    "\t\t\"trigger\": \"switch\",\n",
    "\t\t\"source\": \"off\",\n",
    "\t\t\"target\": \"on_15\",\n",
    "\t\t\"effects\": \"switch_plug(True)\"\n",
    "\t},\n",
    "\t{\n",
    "\t\t\"trigger\": \"switch\",\n",
    "\t\t\"source\": \"on_15\",\n",
    "\t\t\"target\": \"on_30\",\n",
    "\t},\n",
    "\t{\n",
    "\t\t\"trigger\": \"switch\",\n",
    "\t\t\"source\": \"on_30\",\n",
    "\t\t\"target\": \"on_45\",\n",
    "\t},\n",
    "\t{\n",
    "\t\t\"trigger\": \"switch\",\n",
    "\t\t\"source\": \"on_45\",\n",
    "\t\t\"target\": \"on_60\",\n",
    "\t},\n",
    "\t{\n",
    "\t\t\"trigger\": \"switch\",\n",
    "\t\t\"source\": \"on_60\",\n",
    "\t\t\"target\": \"off\",\n",
    "\t},\n",
    "\t{\n",
    "\t\t\"trigger\": \"t\",\n",
    "\t\t\"source\": \"on_15\",\n",
    "\t\t\"target\": \"off\",\n",
    "\t},\n",
    "\t{\n",
    "\t\t\"trigger\": \"t\",\n",
    "\t\t\"source\": \"on_30\",\n",
    "\t\t\"target\": \"on_15\",\n",
    "\t},\n",
    "\t{\n",
    "\t\t\"trigger\": \"t\",\n",
    "\t\t\"source\": \"on_45\",\n",
    "\t\t\"target\": \"on_30\",\n",
    "\t},\n",
    "\t{\n",
    "\t\t\"trigger\": \"t\",\n",
    "\t\t\"source\": \"on_60\",\n",
    "\t\t\"target\": \"on_45\",\n",
    "\t},\n",
    "]\n",
    "\n",
    "states = [\n",
    "\t{\n",
    "\t\t\"name\": \"off\",\n",
    "\t\t\"entry\": \"switch_plug(False); set_led(False, False, False, False); stop_timer('t')\",\n",
    "\t},\n",
    "\t{\n",
    "\t\t\"name\": \"on_15\",\n",
    "\t\t\"entry\": \"start_timer('t', 900); set_led(True, False, False, False)\"\n",
    "\t},\n",
    "\t{\n",
    "\t\t\"name\": \"on_30\",\n",
    "\t\t\"entry\": \"start_timer('t', 900); set_led(True, True, False, False)\"\n",
    "\t},\n",
    "\t{\n",
    "\t\t\"name\": \"on_45\",\n",
    "\t\t\"entry\": \"start_timer('t', 900); set_led(True, True, True, False)\"\n",
    "\t},\n",
    "\t{\n",
    "\t\t\"name\": \"on_60\",\n",
    "\t\t\"entry\": \"start_timer('t', 900); set_led(True, True, True, True)\",\n",
    "\t},\n",
    "]\n",
    "\n",
    "machine = Machine(\n",
    "\tname=\"kitchen_timer\",\n",
    "\ttransitions=transitions,\n",
    "\tobj=timer,\n",
    "\tstates=states,\n",
    ")\n",
    "timer.stm = machine\n",
    "\n",
    "driver = Driver()\n",
    "driver.add_machine(machine)\n",
    "driver.start()"
   ]
  }
 ],
 "metadata": {
  "interpreter": {
   "hash": "7277c34f881c78c328f258e3724c2f43839313d7576edfa87c4894ea667283de"
  },
  "kernelspec": {
   "display_name": "stmpy",
   "language": "python",
   "name": "python3"
  },
  "language_info": {
   "codemirror_mode": {
    "name": "ipython",
    "version": 3
   },
   "file_extension": ".py",
   "mimetype": "text/x-python",
   "name": "python",
   "nbconvert_exporter": "python",
   "pygments_lexer": "ipython3",
   "version": "3.10.1"
  }
 },
 "nbformat": 4,
 "nbformat_minor": 4
}
